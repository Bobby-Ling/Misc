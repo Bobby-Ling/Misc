{
 "cells": [
  {
   "cell_type": "code",
   "execution_count": 1,
   "id": "57bdb56f",
   "metadata": {
    "_cell_guid": "b1076dfc-b9ad-4769-8c92-a6c4dae69d19",
    "_uuid": "8f2839f25d086af736a60e9eeb907d3b93b6e0e5",
    "execution": {
     "iopub.execute_input": "2023-02-28T04:44:26.163902Z",
     "iopub.status.busy": "2023-02-28T04:44:26.163520Z",
     "iopub.status.idle": "2023-02-28T04:44:27.364734Z",
     "shell.execute_reply": "2023-02-28T04:44:27.363653Z"
    },
    "papermill": {
     "duration": 1.211134,
     "end_time": "2023-02-28T04:44:27.367544",
     "exception": false,
     "start_time": "2023-02-28T04:44:26.156410",
     "status": "completed"
    },
    "tags": []
   },
   "outputs": [],
   "source": [
    "import pandas as pd\n",
    "import numpy as np\n",
    "from sklearn.feature_extraction.text import TfidfVectorizer\n",
    "from sklearn.metrics.pairwise import linear_kernel\n",
    "from sklearn.neighbors import NearestNeighbors\n",
    "from scipy.sparse import csr_matrix\n",
    "from fuzzywuzzy import process"
   ]
  },
  {
   "cell_type": "code",
   "execution_count": 2,
   "id": "bf66353f",
   "metadata": {
    "execution": {
     "iopub.execute_input": "2023-02-28T04:44:27.379667Z",
     "iopub.status.busy": "2023-02-28T04:44:27.379333Z",
     "iopub.status.idle": "2023-02-28T04:44:27.431043Z",
     "shell.execute_reply": "2023-02-28T04:44:27.428896Z"
    },
    "papermill": {
     "duration": 0.060376,
     "end_time": "2023-02-28T04:44:27.433695",
     "exception": false,
     "start_time": "2023-02-28T04:44:27.373319",
     "status": "completed"
    },
    "tags": []
   },
   "outputs": [
    {
     "data": {
      "text/html": [
       "<div>\n",
       "<style scoped>\n",
       "    .dataframe tbody tr th:only-of-type {\n",
       "        vertical-align: middle;\n",
       "    }\n",
       "\n",
       "    .dataframe tbody tr th {\n",
       "        vertical-align: top;\n",
       "    }\n",
       "\n",
       "    .dataframe thead th {\n",
       "        text-align: right;\n",
       "    }\n",
       "</style>\n",
       "<table border=\"1\" class=\"dataframe\">\n",
       "  <thead>\n",
       "    <tr style=\"text-align: right;\">\n",
       "      <th></th>\n",
       "      <th>movieId</th>\n",
       "      <th>title</th>\n",
       "      <th>genres</th>\n",
       "    </tr>\n",
       "  </thead>\n",
       "  <tbody>\n",
       "    <tr>\n",
       "      <th>0</th>\n",
       "      <td>1</td>\n",
       "      <td>Toy Story (1995)</td>\n",
       "      <td>Adventure|Animation|Children|Comedy|Fantasy</td>\n",
       "    </tr>\n",
       "    <tr>\n",
       "      <th>1</th>\n",
       "      <td>2</td>\n",
       "      <td>Jumanji (1995)</td>\n",
       "      <td>Adventure|Children|Fantasy</td>\n",
       "    </tr>\n",
       "    <tr>\n",
       "      <th>2</th>\n",
       "      <td>3</td>\n",
       "      <td>Grumpier Old Men (1995)</td>\n",
       "      <td>Comedy|Romance</td>\n",
       "    </tr>\n",
       "    <tr>\n",
       "      <th>3</th>\n",
       "      <td>4</td>\n",
       "      <td>Waiting to Exhale (1995)</td>\n",
       "      <td>Comedy|Drama|Romance</td>\n",
       "    </tr>\n",
       "    <tr>\n",
       "      <th>4</th>\n",
       "      <td>5</td>\n",
       "      <td>Father of the Bride Part II (1995)</td>\n",
       "      <td>Comedy</td>\n",
       "    </tr>\n",
       "  </tbody>\n",
       "</table>\n",
       "</div>"
      ],
      "text/plain": [
       "   movieId                               title  \\\n",
       "0        1                    Toy Story (1995)   \n",
       "1        2                      Jumanji (1995)   \n",
       "2        3             Grumpier Old Men (1995)   \n",
       "3        4            Waiting to Exhale (1995)   \n",
       "4        5  Father of the Bride Part II (1995)   \n",
       "\n",
       "                                        genres  \n",
       "0  Adventure|Animation|Children|Comedy|Fantasy  \n",
       "1                   Adventure|Children|Fantasy  \n",
       "2                               Comedy|Romance  \n",
       "3                         Comedy|Drama|Romance  \n",
       "4                                       Comedy  "
      ]
     },
     "execution_count": 2,
     "metadata": {},
     "output_type": "execute_result"
    }
   ],
   "source": [
    "movies_data = pd.read_csv('/kaggle/input/movie-lens-dataset/movies.csv')\n",
    "movies_data.head()"
   ]
  },
  {
   "cell_type": "code",
   "execution_count": 3,
   "id": "b41aa7a1",
   "metadata": {
    "execution": {
     "iopub.execute_input": "2023-02-28T04:44:27.446475Z",
     "iopub.status.busy": "2023-02-28T04:44:27.445570Z",
     "iopub.status.idle": "2023-02-28T04:44:27.473191Z",
     "shell.execute_reply": "2023-02-28T04:44:27.472071Z"
    },
    "papermill": {
     "duration": 0.036202,
     "end_time": "2023-02-28T04:44:27.475670",
     "exception": false,
     "start_time": "2023-02-28T04:44:27.439468",
     "status": "completed"
    },
    "tags": []
   },
   "outputs": [
    {
     "data": {
      "text/html": [
       "<div>\n",
       "<style scoped>\n",
       "    .dataframe tbody tr th:only-of-type {\n",
       "        vertical-align: middle;\n",
       "    }\n",
       "\n",
       "    .dataframe tbody tr th {\n",
       "        vertical-align: top;\n",
       "    }\n",
       "\n",
       "    .dataframe thead th {\n",
       "        text-align: right;\n",
       "    }\n",
       "</style>\n",
       "<table border=\"1\" class=\"dataframe\">\n",
       "  <thead>\n",
       "    <tr style=\"text-align: right;\">\n",
       "      <th></th>\n",
       "      <th>movieId</th>\n",
       "      <th>title</th>\n",
       "      <th>genres</th>\n",
       "    </tr>\n",
       "  </thead>\n",
       "  <tbody>\n",
       "    <tr>\n",
       "      <th>0</th>\n",
       "      <td>1</td>\n",
       "      <td>Toy Story (1995)</td>\n",
       "      <td>['Adventure', 'Animation', 'Children', 'Comedy...</td>\n",
       "    </tr>\n",
       "    <tr>\n",
       "      <th>1</th>\n",
       "      <td>2</td>\n",
       "      <td>Jumanji (1995)</td>\n",
       "      <td>['Adventure', 'Children', 'Fantasy']</td>\n",
       "    </tr>\n",
       "    <tr>\n",
       "      <th>2</th>\n",
       "      <td>3</td>\n",
       "      <td>Grumpier Old Men (1995)</td>\n",
       "      <td>['Comedy', 'Romance']</td>\n",
       "    </tr>\n",
       "    <tr>\n",
       "      <th>3</th>\n",
       "      <td>4</td>\n",
       "      <td>Waiting to Exhale (1995)</td>\n",
       "      <td>['Comedy', 'Drama', 'Romance']</td>\n",
       "    </tr>\n",
       "    <tr>\n",
       "      <th>4</th>\n",
       "      <td>5</td>\n",
       "      <td>Father of the Bride Part II (1995)</td>\n",
       "      <td>['Comedy']</td>\n",
       "    </tr>\n",
       "  </tbody>\n",
       "</table>\n",
       "</div>"
      ],
      "text/plain": [
       "   movieId                               title  \\\n",
       "0        1                    Toy Story (1995)   \n",
       "1        2                      Jumanji (1995)   \n",
       "2        3             Grumpier Old Men (1995)   \n",
       "3        4            Waiting to Exhale (1995)   \n",
       "4        5  Father of the Bride Part II (1995)   \n",
       "\n",
       "                                              genres  \n",
       "0  ['Adventure', 'Animation', 'Children', 'Comedy...  \n",
       "1               ['Adventure', 'Children', 'Fantasy']  \n",
       "2                              ['Comedy', 'Romance']  \n",
       "3                     ['Comedy', 'Drama', 'Romance']  \n",
       "4                                         ['Comedy']  "
      ]
     },
     "execution_count": 3,
     "metadata": {},
     "output_type": "execute_result"
    }
   ],
   "source": [
    "movies_data['genres'] = movies_data['genres'].str.split('|')\n",
    "movies_data['genres'] = movies_data['genres'].fillna('').astype('str')\n",
    "movies_data.head()"
   ]
  },
  {
   "cell_type": "markdown",
   "id": "993e468d",
   "metadata": {
    "papermill": {
     "duration": 0.005227,
     "end_time": "2023-02-28T04:44:27.486101",
     "exception": false,
     "start_time": "2023-02-28T04:44:27.480874",
     "status": "completed"
    },
    "tags": []
   },
   "source": [
    "# Content Base"
   ]
  },
  {
   "cell_type": "code",
   "execution_count": 4,
   "id": "6a6c3ac1",
   "metadata": {
    "execution": {
     "iopub.execute_input": "2023-02-28T04:44:27.497527Z",
     "iopub.status.busy": "2023-02-28T04:44:27.497249Z",
     "iopub.status.idle": "2023-02-28T04:44:27.558516Z",
     "shell.execute_reply": "2023-02-28T04:44:27.557515Z"
    },
    "papermill": {
     "duration": 0.069239,
     "end_time": "2023-02-28T04:44:27.560499",
     "exception": false,
     "start_time": "2023-02-28T04:44:27.491260",
     "status": "completed"
    },
    "tags": []
   },
   "outputs": [
    {
     "data": {
      "text/plain": [
       "9742"
      ]
     },
     "execution_count": 4,
     "metadata": {},
     "output_type": "execute_result"
    }
   ],
   "source": [
    "def tf_idf_matrix(movies_dataset):\n",
    "    tf_idf = TfidfVectorizer(analyzer = 'word', ngram_range=(1,1), min_df=0)\n",
    "    tfidf_matrix = tf_idf.fit_transform(movies_dataset['genres'])\n",
    "    return tfidf_matrix\n",
    "tf_matrix = tf_idf_matrix(movies_data)\n",
    "tf_matrix.shape[0]"
   ]
  },
  {
   "cell_type": "code",
   "execution_count": 5,
   "id": "a2db1a02",
   "metadata": {
    "execution": {
     "iopub.execute_input": "2023-02-28T04:44:27.573018Z",
     "iopub.status.busy": "2023-02-28T04:44:27.571912Z",
     "iopub.status.idle": "2023-02-28T04:44:29.285363Z",
     "shell.execute_reply": "2023-02-28T04:44:29.284345Z"
    },
    "papermill": {
     "duration": 1.721927,
     "end_time": "2023-02-28T04:44:29.287740",
     "exception": false,
     "start_time": "2023-02-28T04:44:27.565813",
     "status": "completed"
    },
    "tags": []
   },
   "outputs": [
    {
     "data": {
      "text/plain": [
       "9742"
      ]
     },
     "execution_count": 5,
     "metadata": {},
     "output_type": "execute_result"
    }
   ],
   "source": [
    "def cosin(matrix):\n",
    "    _cosin = linear_kernel(matrix, matrix)\n",
    "    return _cosin\n",
    "cosin_matrix = cosin(tf_matrix)\n",
    "len(cosin_matrix)"
   ]
  },
  {
   "cell_type": "code",
   "execution_count": 6,
   "id": "a71b02be",
   "metadata": {
    "execution": {
     "iopub.execute_input": "2023-02-28T04:44:29.301297Z",
     "iopub.status.busy": "2023-02-28T04:44:29.300232Z",
     "iopub.status.idle": "2023-02-28T04:44:29.308652Z",
     "shell.execute_reply": "2023-02-28T04:44:29.307644Z"
    },
    "papermill": {
     "duration": 0.01734,
     "end_time": "2023-02-28T04:44:29.310871",
     "exception": false,
     "start_time": "2023-02-28T04:44:29.293531",
     "status": "completed"
    },
    "tags": []
   },
   "outputs": [],
   "source": [
    "indices = pd.Series(movies_data.index, index=movies_data['title'])\n",
    "def pred(title, top_x, cosin_matrix):\n",
    "    idx = process.extractOne(title, movies_data['title'])[2]\n",
    "    sim_scores = list(enumerate(cosin_matrix[idx]))\n",
    "    sim_scores = sorted(sim_scores, key=lambda x: x[1], reverse=True)\n",
    "    sim_scores = sim_scores[1:(top_x+1)]\n",
    "    movie_indices = [i[0] for i in sim_scores]\n",
    "    topMovies = movies_data['title'].iloc[movie_indices]\n",
    "    movie_ratings = [i[1] for i in sim_scores]\n",
    "    topMovies['Score'] = movie_ratings\n",
    "    return  topMovies"
   ]
  },
  {
   "cell_type": "code",
   "execution_count": 7,
   "id": "bb5ef2fb",
   "metadata": {
    "execution": {
     "iopub.execute_input": "2023-02-28T04:44:29.322684Z",
     "iopub.status.busy": "2023-02-28T04:44:29.322385Z",
     "iopub.status.idle": "2023-02-28T04:44:30.092130Z",
     "shell.execute_reply": "2023-02-28T04:44:30.091055Z"
    },
    "papermill": {
     "duration": 0.778572,
     "end_time": "2023-02-28T04:44:30.094707",
     "exception": false,
     "start_time": "2023-02-28T04:44:29.316135",
     "status": "completed"
    },
    "tags": []
   },
   "outputs": [
    {
     "name": "stdout",
     "output_type": "stream",
     "text": [
      "1706                                           Antz (1998)\n",
      "2355                                    Toy Story 2 (1999)\n",
      "2809        Adventures of Rocky and Bullwinkle, The (2000)\n",
      "3000                      Emperor's New Groove, The (2000)\n",
      "3568                                 Monsters, Inc. (2001)\n",
      "6194                                      Wild, The (2006)\n",
      "6486                                Shrek the Third (2007)\n",
      "6948                        Tale of Despereaux, The (2008)\n",
      "7760     Asterix and the Vikings (Astérix et les Viking...\n",
      "8219                                          Turbo (2013)\n",
      "Score    [0.9999999999999998, 0.9999999999999998, 0.999...\n",
      "Name: title, dtype: object\n",
      "--------------Scores---------------------------\n",
      "[0.9999999999999998, 0.9999999999999998, 0.9999999999999998, 0.9999999999999998, 0.9999999999999998, 0.9999999999999998, 0.9999999999999998, 0.9999999999999998, 0.9999999999999998, 0.9999999999999998]\n"
     ]
    }
   ],
   "source": [
    "topMovies = pred('toy story', 10, cosin_matrix)\n",
    "\n",
    "print(topMovies)\n",
    "\n",
    "print(\"--------------Scores---------------------------\")\n",
    "print(topMovies['Score'])\n",
    "\n",
    "titles = np.array(topMovies)[0:10]\n",
    "score = np.array(topMovies['Score'])\n"
   ]
  },
  {
   "cell_type": "markdown",
   "id": "c106533c",
   "metadata": {
    "papermill": {
     "duration": 0.005538,
     "end_time": "2023-02-28T04:44:30.106050",
     "exception": false,
     "start_time": "2023-02-28T04:44:30.100512",
     "status": "completed"
    },
    "tags": []
   },
   "source": [
    "# Collaboration Filtering\n"
   ]
  },
  {
   "cell_type": "code",
   "execution_count": 8,
   "id": "379a66a0",
   "metadata": {
    "execution": {
     "iopub.execute_input": "2023-02-28T04:44:30.118661Z",
     "iopub.status.busy": "2023-02-28T04:44:30.118341Z",
     "iopub.status.idle": "2023-02-28T04:44:30.143033Z",
     "shell.execute_reply": "2023-02-28T04:44:30.141759Z"
    },
    "papermill": {
     "duration": 0.034221,
     "end_time": "2023-02-28T04:44:30.145945",
     "exception": false,
     "start_time": "2023-02-28T04:44:30.111724",
     "status": "completed"
    },
    "tags": []
   },
   "outputs": [
    {
     "data": {
      "text/html": [
       "<div>\n",
       "<style scoped>\n",
       "    .dataframe tbody tr th:only-of-type {\n",
       "        vertical-align: middle;\n",
       "    }\n",
       "\n",
       "    .dataframe tbody tr th {\n",
       "        vertical-align: top;\n",
       "    }\n",
       "\n",
       "    .dataframe thead th {\n",
       "        text-align: right;\n",
       "    }\n",
       "</style>\n",
       "<table border=\"1\" class=\"dataframe\">\n",
       "  <thead>\n",
       "    <tr style=\"text-align: right;\">\n",
       "      <th></th>\n",
       "      <th>movieId</th>\n",
       "      <th>imdbId</th>\n",
       "      <th>tmdbId</th>\n",
       "    </tr>\n",
       "  </thead>\n",
       "  <tbody>\n",
       "    <tr>\n",
       "      <th>0</th>\n",
       "      <td>1</td>\n",
       "      <td>114709</td>\n",
       "      <td>862.0</td>\n",
       "    </tr>\n",
       "    <tr>\n",
       "      <th>1</th>\n",
       "      <td>2</td>\n",
       "      <td>113497</td>\n",
       "      <td>8844.0</td>\n",
       "    </tr>\n",
       "    <tr>\n",
       "      <th>2</th>\n",
       "      <td>3</td>\n",
       "      <td>113228</td>\n",
       "      <td>15602.0</td>\n",
       "    </tr>\n",
       "    <tr>\n",
       "      <th>3</th>\n",
       "      <td>4</td>\n",
       "      <td>114885</td>\n",
       "      <td>31357.0</td>\n",
       "    </tr>\n",
       "    <tr>\n",
       "      <th>4</th>\n",
       "      <td>5</td>\n",
       "      <td>113041</td>\n",
       "      <td>11862.0</td>\n",
       "    </tr>\n",
       "  </tbody>\n",
       "</table>\n",
       "</div>"
      ],
      "text/plain": [
       "   movieId  imdbId   tmdbId\n",
       "0        1  114709    862.0\n",
       "1        2  113497   8844.0\n",
       "2        3  113228  15602.0\n",
       "3        4  114885  31357.0\n",
       "4        5  113041  11862.0"
      ]
     },
     "execution_count": 8,
     "metadata": {},
     "output_type": "execute_result"
    }
   ],
   "source": [
    "link_data = pd.read_csv('/kaggle/input/movie-lens-dataset/links.csv')\n",
    "link_data.head()"
   ]
  },
  {
   "cell_type": "code",
   "execution_count": 9,
   "id": "cf17f6c6",
   "metadata": {
    "execution": {
     "iopub.execute_input": "2023-02-28T04:44:30.160129Z",
     "iopub.status.busy": "2023-02-28T04:44:30.159832Z",
     "iopub.status.idle": "2023-02-28T04:44:30.245849Z",
     "shell.execute_reply": "2023-02-28T04:44:30.244672Z"
    },
    "papermill": {
     "duration": 0.095713,
     "end_time": "2023-02-28T04:44:30.248582",
     "exception": false,
     "start_time": "2023-02-28T04:44:30.152869",
     "status": "completed"
    },
    "tags": []
   },
   "outputs": [
    {
     "data": {
      "text/html": [
       "<div>\n",
       "<style scoped>\n",
       "    .dataframe tbody tr th:only-of-type {\n",
       "        vertical-align: middle;\n",
       "    }\n",
       "\n",
       "    .dataframe tbody tr th {\n",
       "        vertical-align: top;\n",
       "    }\n",
       "\n",
       "    .dataframe thead th {\n",
       "        text-align: right;\n",
       "    }\n",
       "</style>\n",
       "<table border=\"1\" class=\"dataframe\">\n",
       "  <thead>\n",
       "    <tr style=\"text-align: right;\">\n",
       "      <th></th>\n",
       "      <th>userId</th>\n",
       "      <th>movieId</th>\n",
       "      <th>rating</th>\n",
       "      <th>timestamp</th>\n",
       "    </tr>\n",
       "  </thead>\n",
       "  <tbody>\n",
       "    <tr>\n",
       "      <th>0</th>\n",
       "      <td>1</td>\n",
       "      <td>1</td>\n",
       "      <td>4.0</td>\n",
       "      <td>964982703</td>\n",
       "    </tr>\n",
       "    <tr>\n",
       "      <th>1</th>\n",
       "      <td>1</td>\n",
       "      <td>3</td>\n",
       "      <td>4.0</td>\n",
       "      <td>964981247</td>\n",
       "    </tr>\n",
       "    <tr>\n",
       "      <th>2</th>\n",
       "      <td>1</td>\n",
       "      <td>6</td>\n",
       "      <td>4.0</td>\n",
       "      <td>964982224</td>\n",
       "    </tr>\n",
       "    <tr>\n",
       "      <th>3</th>\n",
       "      <td>1</td>\n",
       "      <td>47</td>\n",
       "      <td>5.0</td>\n",
       "      <td>964983815</td>\n",
       "    </tr>\n",
       "    <tr>\n",
       "      <th>4</th>\n",
       "      <td>1</td>\n",
       "      <td>50</td>\n",
       "      <td>5.0</td>\n",
       "      <td>964982931</td>\n",
       "    </tr>\n",
       "  </tbody>\n",
       "</table>\n",
       "</div>"
      ],
      "text/plain": [
       "   userId  movieId  rating  timestamp\n",
       "0       1        1     4.0  964982703\n",
       "1       1        3     4.0  964981247\n",
       "2       1        6     4.0  964982224\n",
       "3       1       47     5.0  964983815\n",
       "4       1       50     5.0  964982931"
      ]
     },
     "execution_count": 9,
     "metadata": {},
     "output_type": "execute_result"
    }
   ],
   "source": [
    "ratings_data = pd.read_csv('/kaggle/input/movie-lens-dataset/ratings.csv')\n",
    "ratings_data.head()"
   ]
  },
  {
   "cell_type": "code",
   "execution_count": 10,
   "id": "2f7c8b95",
   "metadata": {
    "execution": {
     "iopub.execute_input": "2023-02-28T04:44:30.262236Z",
     "iopub.status.busy": "2023-02-28T04:44:30.261912Z",
     "iopub.status.idle": "2023-02-28T04:44:30.282372Z",
     "shell.execute_reply": "2023-02-28T04:44:30.281143Z"
    },
    "papermill": {
     "duration": 0.029919,
     "end_time": "2023-02-28T04:44:30.284872",
     "exception": false,
     "start_time": "2023-02-28T04:44:30.254953",
     "status": "completed"
    },
    "tags": []
   },
   "outputs": [
    {
     "data": {
      "text/html": [
       "<div>\n",
       "<style scoped>\n",
       "    .dataframe tbody tr th:only-of-type {\n",
       "        vertical-align: middle;\n",
       "    }\n",
       "\n",
       "    .dataframe tbody tr th {\n",
       "        vertical-align: top;\n",
       "    }\n",
       "\n",
       "    .dataframe thead th {\n",
       "        text-align: right;\n",
       "    }\n",
       "</style>\n",
       "<table border=\"1\" class=\"dataframe\">\n",
       "  <thead>\n",
       "    <tr style=\"text-align: right;\">\n",
       "      <th></th>\n",
       "      <th>userId</th>\n",
       "      <th>movieId</th>\n",
       "      <th>tag</th>\n",
       "      <th>timestamp</th>\n",
       "    </tr>\n",
       "  </thead>\n",
       "  <tbody>\n",
       "    <tr>\n",
       "      <th>0</th>\n",
       "      <td>2</td>\n",
       "      <td>60756</td>\n",
       "      <td>funny</td>\n",
       "      <td>1445714994</td>\n",
       "    </tr>\n",
       "    <tr>\n",
       "      <th>1</th>\n",
       "      <td>2</td>\n",
       "      <td>60756</td>\n",
       "      <td>Highly quotable</td>\n",
       "      <td>1445714996</td>\n",
       "    </tr>\n",
       "    <tr>\n",
       "      <th>2</th>\n",
       "      <td>2</td>\n",
       "      <td>60756</td>\n",
       "      <td>will ferrell</td>\n",
       "      <td>1445714992</td>\n",
       "    </tr>\n",
       "    <tr>\n",
       "      <th>3</th>\n",
       "      <td>2</td>\n",
       "      <td>89774</td>\n",
       "      <td>Boxing story</td>\n",
       "      <td>1445715207</td>\n",
       "    </tr>\n",
       "    <tr>\n",
       "      <th>4</th>\n",
       "      <td>2</td>\n",
       "      <td>89774</td>\n",
       "      <td>MMA</td>\n",
       "      <td>1445715200</td>\n",
       "    </tr>\n",
       "  </tbody>\n",
       "</table>\n",
       "</div>"
      ],
      "text/plain": [
       "   userId  movieId              tag   timestamp\n",
       "0       2    60756            funny  1445714994\n",
       "1       2    60756  Highly quotable  1445714996\n",
       "2       2    60756     will ferrell  1445714992\n",
       "3       2    89774     Boxing story  1445715207\n",
       "4       2    89774              MMA  1445715200"
      ]
     },
     "execution_count": 10,
     "metadata": {},
     "output_type": "execute_result"
    }
   ],
   "source": [
    "tags_data = pd.read_csv('/kaggle/input/movie-lens-dataset/tags.csv')\n",
    "tags_data.head()"
   ]
  },
  {
   "cell_type": "code",
   "execution_count": 11,
   "id": "65b10ea2",
   "metadata": {
    "execution": {
     "iopub.execute_input": "2023-02-28T04:44:30.299738Z",
     "iopub.status.busy": "2023-02-28T04:44:30.298086Z",
     "iopub.status.idle": "2023-02-28T04:44:30.410495Z",
     "shell.execute_reply": "2023-02-28T04:44:30.409227Z"
    },
    "papermill": {
     "duration": 0.122068,
     "end_time": "2023-02-28T04:44:30.413161",
     "exception": false,
     "start_time": "2023-02-28T04:44:30.291093",
     "status": "completed"
    },
    "tags": []
   },
   "outputs": [],
   "source": [
    "movie_user = ratings_data.pivot(index='movieId', columns='userId', values='rating').fillna(0)"
   ]
  },
  {
   "cell_type": "code",
   "execution_count": 12,
   "id": "bbc861f4",
   "metadata": {
    "execution": {
     "iopub.execute_input": "2023-02-28T04:44:30.427137Z",
     "iopub.status.busy": "2023-02-28T04:44:30.426273Z",
     "iopub.status.idle": "2023-02-28T04:44:30.436740Z",
     "shell.execute_reply": "2023-02-28T04:44:30.435736Z"
    },
    "papermill": {
     "duration": 0.01962,
     "end_time": "2023-02-28T04:44:30.438939",
     "exception": false,
     "start_time": "2023-02-28T04:44:30.419319",
     "status": "completed"
    },
    "tags": []
   },
   "outputs": [
    {
     "name": "stdout",
     "output_type": "stream",
     "text": [
      "610\n",
      "9724\n"
     ]
    }
   ],
   "source": [
    "num_users = len(ratings_data.userId.unique())\n",
    "num_items = len(ratings_data.movieId.unique())\n",
    "print(num_users)\n",
    "print(num_items)"
   ]
  },
  {
   "cell_type": "code",
   "execution_count": 13,
   "id": "f276100d",
   "metadata": {
    "execution": {
     "iopub.execute_input": "2023-02-28T04:44:30.452016Z",
     "iopub.status.busy": "2023-02-28T04:44:30.451698Z",
     "iopub.status.idle": "2023-02-28T04:44:30.465874Z",
     "shell.execute_reply": "2023-02-28T04:44:30.464665Z"
    },
    "papermill": {
     "duration": 0.023362,
     "end_time": "2023-02-28T04:44:30.468203",
     "exception": false,
     "start_time": "2023-02-28T04:44:30.444841",
     "status": "completed"
    },
    "tags": []
   },
   "outputs": [
    {
     "data": {
      "text/html": [
       "<div>\n",
       "<style scoped>\n",
       "    .dataframe tbody tr th:only-of-type {\n",
       "        vertical-align: middle;\n",
       "    }\n",
       "\n",
       "    .dataframe tbody tr th {\n",
       "        vertical-align: top;\n",
       "    }\n",
       "\n",
       "    .dataframe thead th {\n",
       "        text-align: right;\n",
       "    }\n",
       "</style>\n",
       "<table border=\"1\" class=\"dataframe\">\n",
       "  <thead>\n",
       "    <tr style=\"text-align: right;\">\n",
       "      <th></th>\n",
       "      <th>count</th>\n",
       "    </tr>\n",
       "    <tr>\n",
       "      <th>rating</th>\n",
       "      <th></th>\n",
       "    </tr>\n",
       "  </thead>\n",
       "  <tbody>\n",
       "    <tr>\n",
       "      <th>0.5</th>\n",
       "      <td>1370</td>\n",
       "    </tr>\n",
       "    <tr>\n",
       "      <th>1.0</th>\n",
       "      <td>2811</td>\n",
       "    </tr>\n",
       "    <tr>\n",
       "      <th>1.5</th>\n",
       "      <td>1791</td>\n",
       "    </tr>\n",
       "    <tr>\n",
       "      <th>2.0</th>\n",
       "      <td>7551</td>\n",
       "    </tr>\n",
       "    <tr>\n",
       "      <th>2.5</th>\n",
       "      <td>5550</td>\n",
       "    </tr>\n",
       "    <tr>\n",
       "      <th>3.0</th>\n",
       "      <td>20047</td>\n",
       "    </tr>\n",
       "    <tr>\n",
       "      <th>3.5</th>\n",
       "      <td>13136</td>\n",
       "    </tr>\n",
       "    <tr>\n",
       "      <th>4.0</th>\n",
       "      <td>26818</td>\n",
       "    </tr>\n",
       "    <tr>\n",
       "      <th>4.5</th>\n",
       "      <td>8551</td>\n",
       "    </tr>\n",
       "    <tr>\n",
       "      <th>5.0</th>\n",
       "      <td>13211</td>\n",
       "    </tr>\n",
       "  </tbody>\n",
       "</table>\n",
       "</div>"
      ],
      "text/plain": [
       "        count\n",
       "rating       \n",
       "0.5      1370\n",
       "1.0      2811\n",
       "1.5      1791\n",
       "2.0      7551\n",
       "2.5      5550\n",
       "3.0     20047\n",
       "3.5     13136\n",
       "4.0     26818\n",
       "4.5      8551\n",
       "5.0     13211"
      ]
     },
     "execution_count": 13,
     "metadata": {},
     "output_type": "execute_result"
    }
   ],
   "source": [
    "df_ratings_cnt_tmp = pd.DataFrame(ratings_data.groupby('rating').size(), columns=['count'])\n",
    "df_ratings_cnt_tmp"
   ]
  },
  {
   "cell_type": "code",
   "execution_count": 14,
   "id": "df1b23de",
   "metadata": {
    "execution": {
     "iopub.execute_input": "2023-02-28T04:44:30.482916Z",
     "iopub.status.busy": "2023-02-28T04:44:30.482037Z",
     "iopub.status.idle": "2023-02-28T04:44:30.495807Z",
     "shell.execute_reply": "2023-02-28T04:44:30.494626Z"
    },
    "papermill": {
     "duration": 0.022751,
     "end_time": "2023-02-28T04:44:30.497895",
     "exception": false,
     "start_time": "2023-02-28T04:44:30.475144",
     "status": "completed"
    },
    "tags": []
   },
   "outputs": [
    {
     "data": {
      "text/html": [
       "<div>\n",
       "<style scoped>\n",
       "    .dataframe tbody tr th:only-of-type {\n",
       "        vertical-align: middle;\n",
       "    }\n",
       "\n",
       "    .dataframe tbody tr th {\n",
       "        vertical-align: top;\n",
       "    }\n",
       "\n",
       "    .dataframe thead th {\n",
       "        text-align: right;\n",
       "    }\n",
       "</style>\n",
       "<table border=\"1\" class=\"dataframe\">\n",
       "  <thead>\n",
       "    <tr style=\"text-align: right;\">\n",
       "      <th></th>\n",
       "      <th>count</th>\n",
       "    </tr>\n",
       "  </thead>\n",
       "  <tbody>\n",
       "    <tr>\n",
       "      <th>0.0</th>\n",
       "      <td>5830804</td>\n",
       "    </tr>\n",
       "    <tr>\n",
       "      <th>0.5</th>\n",
       "      <td>1370</td>\n",
       "    </tr>\n",
       "    <tr>\n",
       "      <th>1.0</th>\n",
       "      <td>2811</td>\n",
       "    </tr>\n",
       "    <tr>\n",
       "      <th>1.5</th>\n",
       "      <td>1791</td>\n",
       "    </tr>\n",
       "    <tr>\n",
       "      <th>2.0</th>\n",
       "      <td>7551</td>\n",
       "    </tr>\n",
       "    <tr>\n",
       "      <th>2.5</th>\n",
       "      <td>5550</td>\n",
       "    </tr>\n",
       "    <tr>\n",
       "      <th>3.0</th>\n",
       "      <td>20047</td>\n",
       "    </tr>\n",
       "    <tr>\n",
       "      <th>3.5</th>\n",
       "      <td>13136</td>\n",
       "    </tr>\n",
       "    <tr>\n",
       "      <th>4.0</th>\n",
       "      <td>26818</td>\n",
       "    </tr>\n",
       "    <tr>\n",
       "      <th>4.5</th>\n",
       "      <td>8551</td>\n",
       "    </tr>\n",
       "    <tr>\n",
       "      <th>5.0</th>\n",
       "      <td>13211</td>\n",
       "    </tr>\n",
       "  </tbody>\n",
       "</table>\n",
       "</div>"
      ],
      "text/plain": [
       "       count\n",
       "0.0  5830804\n",
       "0.5     1370\n",
       "1.0     2811\n",
       "1.5     1791\n",
       "2.0     7551\n",
       "2.5     5550\n",
       "3.0    20047\n",
       "3.5    13136\n",
       "4.0    26818\n",
       "4.5     8551\n",
       "5.0    13211"
      ]
     },
     "execution_count": 14,
     "metadata": {},
     "output_type": "execute_result"
    }
   ],
   "source": [
    "total_cnt = num_users * num_items\n",
    "rating_zero_cnt = total_cnt - ratings_data.shape[0]\n",
    "\n",
    "df_ratings_cnt = df_ratings_cnt_tmp.append(\n",
    "    pd.DataFrame({'count': rating_zero_cnt}, index=[0.0]),\n",
    "    verify_integrity=True,\n",
    ").sort_index()\n",
    "df_ratings_cnt"
   ]
  },
  {
   "cell_type": "code",
   "execution_count": 15,
   "id": "167777c8",
   "metadata": {
    "execution": {
     "iopub.execute_input": "2023-02-28T04:44:30.512181Z",
     "iopub.status.busy": "2023-02-28T04:44:30.511194Z",
     "iopub.status.idle": "2023-02-28T04:44:30.523159Z",
     "shell.execute_reply": "2023-02-28T04:44:30.521989Z"
    },
    "papermill": {
     "duration": 0.021441,
     "end_time": "2023-02-28T04:44:30.525549",
     "exception": false,
     "start_time": "2023-02-28T04:44:30.504108",
     "status": "completed"
    },
    "tags": []
   },
   "outputs": [
    {
     "data": {
      "text/html": [
       "<div>\n",
       "<style scoped>\n",
       "    .dataframe tbody tr th:only-of-type {\n",
       "        vertical-align: middle;\n",
       "    }\n",
       "\n",
       "    .dataframe tbody tr th {\n",
       "        vertical-align: top;\n",
       "    }\n",
       "\n",
       "    .dataframe thead th {\n",
       "        text-align: right;\n",
       "    }\n",
       "</style>\n",
       "<table border=\"1\" class=\"dataframe\">\n",
       "  <thead>\n",
       "    <tr style=\"text-align: right;\">\n",
       "      <th></th>\n",
       "      <th>count</th>\n",
       "      <th>log_count</th>\n",
       "    </tr>\n",
       "  </thead>\n",
       "  <tbody>\n",
       "    <tr>\n",
       "      <th>0.0</th>\n",
       "      <td>5830804</td>\n",
       "      <td>15.578665</td>\n",
       "    </tr>\n",
       "    <tr>\n",
       "      <th>0.5</th>\n",
       "      <td>1370</td>\n",
       "      <td>7.222566</td>\n",
       "    </tr>\n",
       "    <tr>\n",
       "      <th>1.0</th>\n",
       "      <td>2811</td>\n",
       "      <td>7.941296</td>\n",
       "    </tr>\n",
       "    <tr>\n",
       "      <th>1.5</th>\n",
       "      <td>1791</td>\n",
       "      <td>7.490529</td>\n",
       "    </tr>\n",
       "    <tr>\n",
       "      <th>2.0</th>\n",
       "      <td>7551</td>\n",
       "      <td>8.929435</td>\n",
       "    </tr>\n",
       "    <tr>\n",
       "      <th>2.5</th>\n",
       "      <td>5550</td>\n",
       "      <td>8.621553</td>\n",
       "    </tr>\n",
       "    <tr>\n",
       "      <th>3.0</th>\n",
       "      <td>20047</td>\n",
       "      <td>9.905835</td>\n",
       "    </tr>\n",
       "    <tr>\n",
       "      <th>3.5</th>\n",
       "      <td>13136</td>\n",
       "      <td>9.483112</td>\n",
       "    </tr>\n",
       "    <tr>\n",
       "      <th>4.0</th>\n",
       "      <td>26818</td>\n",
       "      <td>10.196829</td>\n",
       "    </tr>\n",
       "    <tr>\n",
       "      <th>4.5</th>\n",
       "      <td>8551</td>\n",
       "      <td>9.053804</td>\n",
       "    </tr>\n",
       "    <tr>\n",
       "      <th>5.0</th>\n",
       "      <td>13211</td>\n",
       "      <td>9.488805</td>\n",
       "    </tr>\n",
       "  </tbody>\n",
       "</table>\n",
       "</div>"
      ],
      "text/plain": [
       "       count  log_count\n",
       "0.0  5830804  15.578665\n",
       "0.5     1370   7.222566\n",
       "1.0     2811   7.941296\n",
       "1.5     1791   7.490529\n",
       "2.0     7551   8.929435\n",
       "2.5     5550   8.621553\n",
       "3.0    20047   9.905835\n",
       "3.5    13136   9.483112\n",
       "4.0    26818  10.196829\n",
       "4.5     8551   9.053804\n",
       "5.0    13211   9.488805"
      ]
     },
     "execution_count": 15,
     "metadata": {},
     "output_type": "execute_result"
    }
   ],
   "source": [
    "df_ratings_cnt['log_count'] = np.log(df_ratings_cnt['count'])\n",
    "df_ratings_cnt"
   ]
  },
  {
   "cell_type": "code",
   "execution_count": 16,
   "id": "b7957a6c",
   "metadata": {
    "execution": {
     "iopub.execute_input": "2023-02-28T04:44:30.540007Z",
     "iopub.status.busy": "2023-02-28T04:44:30.539441Z",
     "iopub.status.idle": "2023-02-28T04:44:31.228863Z",
     "shell.execute_reply": "2023-02-28T04:44:31.227794Z"
    },
    "papermill": {
     "duration": 0.698863,
     "end_time": "2023-02-28T04:44:31.231182",
     "exception": false,
     "start_time": "2023-02-28T04:44:30.532319",
     "status": "completed"
    },
    "tags": []
   },
   "outputs": [
    {
     "data": {
      "text/plain": [
       "Text(0, 0.5, 'number of ratings')"
      ]
     },
     "execution_count": 16,
     "metadata": {},
     "output_type": "execute_result"
    },
    {
     "data": {
      "image/png": "[encoded data removed]",
      "text/plain": [
       "<Figure size 1200x800 with 1 Axes>"
      ]
     },
     "metadata": {},
     "output_type": "display_data"
    }
   ],
   "source": [
    "ax = df_ratings_cnt[['count']].reset_index().rename(columns={'index': 'rating score'}).plot(\n",
    "    x='rating score',\n",
    "    y='count',\n",
    "    kind='bar',\n",
    "    figsize=(12, 8),\n",
    "    title='Count for Each Rating Score (in Log Scale)',\n",
    "    logy=True,\n",
    "    fontsize=12,\n",
    ")\n",
    "ax.set_xlabel(\"movie rating score\")\n",
    "ax.set_ylabel(\"number of ratings\")"
   ]
  },
  {
   "cell_type": "code",
   "execution_count": 17,
   "id": "549efa56",
   "metadata": {
    "execution": {
     "iopub.execute_input": "2023-02-28T04:44:31.248066Z",
     "iopub.status.busy": "2023-02-28T04:44:31.247471Z",
     "iopub.status.idle": "2023-02-28T04:44:31.283641Z",
     "shell.execute_reply": "2023-02-28T04:44:31.282546Z"
    },
    "papermill": {
     "duration": 0.047385,
     "end_time": "2023-02-28T04:44:31.286122",
     "exception": false,
     "start_time": "2023-02-28T04:44:31.238737",
     "status": "completed"
    },
    "tags": []
   },
   "outputs": [
    {
     "data": {
      "text/html": [
       "<div>\n",
       "<style scoped>\n",
       "    .dataframe tbody tr th:only-of-type {\n",
       "        vertical-align: middle;\n",
       "    }\n",
       "\n",
       "    .dataframe tbody tr th {\n",
       "        vertical-align: top;\n",
       "    }\n",
       "\n",
       "    .dataframe thead th {\n",
       "        text-align: right;\n",
       "    }\n",
       "</style>\n",
       "<table border=\"1\" class=\"dataframe\">\n",
       "  <thead>\n",
       "    <tr style=\"text-align: right;\">\n",
       "      <th>userId</th>\n",
       "      <th>1</th>\n",
       "      <th>2</th>\n",
       "      <th>3</th>\n",
       "      <th>4</th>\n",
       "      <th>5</th>\n",
       "      <th>6</th>\n",
       "      <th>7</th>\n",
       "      <th>8</th>\n",
       "      <th>9</th>\n",
       "      <th>10</th>\n",
       "      <th>...</th>\n",
       "      <th>601</th>\n",
       "      <th>602</th>\n",
       "      <th>603</th>\n",
       "      <th>604</th>\n",
       "      <th>605</th>\n",
       "      <th>606</th>\n",
       "      <th>607</th>\n",
       "      <th>608</th>\n",
       "      <th>609</th>\n",
       "      <th>610</th>\n",
       "    </tr>\n",
       "    <tr>\n",
       "      <th>movieId</th>\n",
       "      <th></th>\n",
       "      <th></th>\n",
       "      <th></th>\n",
       "      <th></th>\n",
       "      <th></th>\n",
       "      <th></th>\n",
       "      <th></th>\n",
       "      <th></th>\n",
       "      <th></th>\n",
       "      <th></th>\n",
       "      <th></th>\n",
       "      <th></th>\n",
       "      <th></th>\n",
       "      <th></th>\n",
       "      <th></th>\n",
       "      <th></th>\n",
       "      <th></th>\n",
       "      <th></th>\n",
       "      <th></th>\n",
       "      <th></th>\n",
       "      <th></th>\n",
       "    </tr>\n",
       "  </thead>\n",
       "  <tbody>\n",
       "    <tr>\n",
       "      <th>1</th>\n",
       "      <td>4.0</td>\n",
       "      <td>0.0</td>\n",
       "      <td>0.0</td>\n",
       "      <td>0.0</td>\n",
       "      <td>4.0</td>\n",
       "      <td>0.0</td>\n",
       "      <td>4.5</td>\n",
       "      <td>0.0</td>\n",
       "      <td>0.0</td>\n",
       "      <td>0.0</td>\n",
       "      <td>...</td>\n",
       "      <td>4.0</td>\n",
       "      <td>0.0</td>\n",
       "      <td>4.0</td>\n",
       "      <td>3.0</td>\n",
       "      <td>4.0</td>\n",
       "      <td>2.5</td>\n",
       "      <td>4.0</td>\n",
       "      <td>2.5</td>\n",
       "      <td>3.0</td>\n",
       "      <td>5.0</td>\n",
       "    </tr>\n",
       "    <tr>\n",
       "      <th>2</th>\n",
       "      <td>0.0</td>\n",
       "      <td>0.0</td>\n",
       "      <td>0.0</td>\n",
       "      <td>0.0</td>\n",
       "      <td>0.0</td>\n",
       "      <td>4.0</td>\n",
       "      <td>0.0</td>\n",
       "      <td>4.0</td>\n",
       "      <td>0.0</td>\n",
       "      <td>0.0</td>\n",
       "      <td>...</td>\n",
       "      <td>0.0</td>\n",
       "      <td>4.0</td>\n",
       "      <td>0.0</td>\n",
       "      <td>5.0</td>\n",
       "      <td>3.5</td>\n",
       "      <td>0.0</td>\n",
       "      <td>0.0</td>\n",
       "      <td>2.0</td>\n",
       "      <td>0.0</td>\n",
       "      <td>0.0</td>\n",
       "    </tr>\n",
       "    <tr>\n",
       "      <th>3</th>\n",
       "      <td>4.0</td>\n",
       "      <td>0.0</td>\n",
       "      <td>0.0</td>\n",
       "      <td>0.0</td>\n",
       "      <td>0.0</td>\n",
       "      <td>5.0</td>\n",
       "      <td>0.0</td>\n",
       "      <td>0.0</td>\n",
       "      <td>0.0</td>\n",
       "      <td>0.0</td>\n",
       "      <td>...</td>\n",
       "      <td>0.0</td>\n",
       "      <td>0.0</td>\n",
       "      <td>0.0</td>\n",
       "      <td>0.0</td>\n",
       "      <td>0.0</td>\n",
       "      <td>0.0</td>\n",
       "      <td>0.0</td>\n",
       "      <td>2.0</td>\n",
       "      <td>0.0</td>\n",
       "      <td>0.0</td>\n",
       "    </tr>\n",
       "    <tr>\n",
       "      <th>4</th>\n",
       "      <td>0.0</td>\n",
       "      <td>0.0</td>\n",
       "      <td>0.0</td>\n",
       "      <td>0.0</td>\n",
       "      <td>0.0</td>\n",
       "      <td>3.0</td>\n",
       "      <td>0.0</td>\n",
       "      <td>0.0</td>\n",
       "      <td>0.0</td>\n",
       "      <td>0.0</td>\n",
       "      <td>...</td>\n",
       "      <td>0.0</td>\n",
       "      <td>0.0</td>\n",
       "      <td>0.0</td>\n",
       "      <td>0.0</td>\n",
       "      <td>0.0</td>\n",
       "      <td>0.0</td>\n",
       "      <td>0.0</td>\n",
       "      <td>0.0</td>\n",
       "      <td>0.0</td>\n",
       "      <td>0.0</td>\n",
       "    </tr>\n",
       "    <tr>\n",
       "      <th>5</th>\n",
       "      <td>0.0</td>\n",
       "      <td>0.0</td>\n",
       "      <td>0.0</td>\n",
       "      <td>0.0</td>\n",
       "      <td>0.0</td>\n",
       "      <td>5.0</td>\n",
       "      <td>0.0</td>\n",
       "      <td>0.0</td>\n",
       "      <td>0.0</td>\n",
       "      <td>0.0</td>\n",
       "      <td>...</td>\n",
       "      <td>0.0</td>\n",
       "      <td>0.0</td>\n",
       "      <td>0.0</td>\n",
       "      <td>3.0</td>\n",
       "      <td>0.0</td>\n",
       "      <td>0.0</td>\n",
       "      <td>0.0</td>\n",
       "      <td>0.0</td>\n",
       "      <td>0.0</td>\n",
       "      <td>0.0</td>\n",
       "    </tr>\n",
       "    <tr>\n",
       "      <th>...</th>\n",
       "      <td>...</td>\n",
       "      <td>...</td>\n",
       "      <td>...</td>\n",
       "      <td>...</td>\n",
       "      <td>...</td>\n",
       "      <td>...</td>\n",
       "      <td>...</td>\n",
       "      <td>...</td>\n",
       "      <td>...</td>\n",
       "      <td>...</td>\n",
       "      <td>...</td>\n",
       "      <td>...</td>\n",
       "      <td>...</td>\n",
       "      <td>...</td>\n",
       "      <td>...</td>\n",
       "      <td>...</td>\n",
       "      <td>...</td>\n",
       "      <td>...</td>\n",
       "      <td>...</td>\n",
       "      <td>...</td>\n",
       "      <td>...</td>\n",
       "    </tr>\n",
       "    <tr>\n",
       "      <th>193581</th>\n",
       "      <td>0.0</td>\n",
       "      <td>0.0</td>\n",
       "      <td>0.0</td>\n",
       "      <td>0.0</td>\n",
       "      <td>0.0</td>\n",
       "      <td>0.0</td>\n",
       "      <td>0.0</td>\n",
       "      <td>0.0</td>\n",
       "      <td>0.0</td>\n",
       "      <td>0.0</td>\n",
       "      <td>...</td>\n",
       "      <td>0.0</td>\n",
       "      <td>0.0</td>\n",
       "      <td>0.0</td>\n",
       "      <td>0.0</td>\n",
       "      <td>0.0</td>\n",
       "      <td>0.0</td>\n",
       "      <td>0.0</td>\n",
       "      <td>0.0</td>\n",
       "      <td>0.0</td>\n",
       "      <td>0.0</td>\n",
       "    </tr>\n",
       "    <tr>\n",
       "      <th>193583</th>\n",
       "      <td>0.0</td>\n",
       "      <td>0.0</td>\n",
       "      <td>0.0</td>\n",
       "      <td>0.0</td>\n",
       "      <td>0.0</td>\n",
       "      <td>0.0</td>\n",
       "      <td>0.0</td>\n",
       "      <td>0.0</td>\n",
       "      <td>0.0</td>\n",
       "      <td>0.0</td>\n",
       "      <td>...</td>\n",
       "      <td>0.0</td>\n",
       "      <td>0.0</td>\n",
       "      <td>0.0</td>\n",
       "      <td>0.0</td>\n",
       "      <td>0.0</td>\n",
       "      <td>0.0</td>\n",
       "      <td>0.0</td>\n",
       "      <td>0.0</td>\n",
       "      <td>0.0</td>\n",
       "      <td>0.0</td>\n",
       "    </tr>\n",
       "    <tr>\n",
       "      <th>193585</th>\n",
       "      <td>0.0</td>\n",
       "      <td>0.0</td>\n",
       "      <td>0.0</td>\n",
       "      <td>0.0</td>\n",
       "      <td>0.0</td>\n",
       "      <td>0.0</td>\n",
       "      <td>0.0</td>\n",
       "      <td>0.0</td>\n",
       "      <td>0.0</td>\n",
       "      <td>0.0</td>\n",
       "      <td>...</td>\n",
       "      <td>0.0</td>\n",
       "      <td>0.0</td>\n",
       "      <td>0.0</td>\n",
       "      <td>0.0</td>\n",
       "      <td>0.0</td>\n",
       "      <td>0.0</td>\n",
       "      <td>0.0</td>\n",
       "      <td>0.0</td>\n",
       "      <td>0.0</td>\n",
       "      <td>0.0</td>\n",
       "    </tr>\n",
       "    <tr>\n",
       "      <th>193587</th>\n",
       "      <td>0.0</td>\n",
       "      <td>0.0</td>\n",
       "      <td>0.0</td>\n",
       "      <td>0.0</td>\n",
       "      <td>0.0</td>\n",
       "      <td>0.0</td>\n",
       "      <td>0.0</td>\n",
       "      <td>0.0</td>\n",
       "      <td>0.0</td>\n",
       "      <td>0.0</td>\n",
       "      <td>...</td>\n",
       "      <td>0.0</td>\n",
       "      <td>0.0</td>\n",
       "      <td>0.0</td>\n",
       "      <td>0.0</td>\n",
       "      <td>0.0</td>\n",
       "      <td>0.0</td>\n",
       "      <td>0.0</td>\n",
       "      <td>0.0</td>\n",
       "      <td>0.0</td>\n",
       "      <td>0.0</td>\n",
       "    </tr>\n",
       "    <tr>\n",
       "      <th>193609</th>\n",
       "      <td>0.0</td>\n",
       "      <td>0.0</td>\n",
       "      <td>0.0</td>\n",
       "      <td>0.0</td>\n",
       "      <td>0.0</td>\n",
       "      <td>0.0</td>\n",
       "      <td>0.0</td>\n",
       "      <td>0.0</td>\n",
       "      <td>0.0</td>\n",
       "      <td>0.0</td>\n",
       "      <td>...</td>\n",
       "      <td>0.0</td>\n",
       "      <td>0.0</td>\n",
       "      <td>0.0</td>\n",
       "      <td>0.0</td>\n",
       "      <td>0.0</td>\n",
       "      <td>0.0</td>\n",
       "      <td>0.0</td>\n",
       "      <td>0.0</td>\n",
       "      <td>0.0</td>\n",
       "      <td>0.0</td>\n",
       "    </tr>\n",
       "  </tbody>\n",
       "</table>\n",
       "<p>9724 rows × 610 columns</p>\n",
       "</div>"
      ],
      "text/plain": [
       "userId   1    2    3    4    5    6    7    8    9    10   ...  601  602  603  \\\n",
       "movieId                                                    ...                  \n",
       "1        4.0  0.0  0.0  0.0  4.0  0.0  4.5  0.0  0.0  0.0  ...  4.0  0.0  4.0   \n",
       "2        0.0  0.0  0.0  0.0  0.0  4.0  0.0  4.0  0.0  0.0  ...  0.0  4.0  0.0   \n",
       "3        4.0  0.0  0.0  0.0  0.0  5.0  0.0  0.0  0.0  0.0  ...  0.0  0.0  0.0   \n",
       "4        0.0  0.0  0.0  0.0  0.0  3.0  0.0  0.0  0.0  0.0  ...  0.0  0.0  0.0   \n",
       "5        0.0  0.0  0.0  0.0  0.0  5.0  0.0  0.0  0.0  0.0  ...  0.0  0.0  0.0   \n",
       "...      ...  ...  ...  ...  ...  ...  ...  ...  ...  ...  ...  ...  ...  ...   \n",
       "193581   0.0  0.0  0.0  0.0  0.0  0.0  0.0  0.0  0.0  0.0  ...  0.0  0.0  0.0   \n",
       "193583   0.0  0.0  0.0  0.0  0.0  0.0  0.0  0.0  0.0  0.0  ...  0.0  0.0  0.0   \n",
       "193585   0.0  0.0  0.0  0.0  0.0  0.0  0.0  0.0  0.0  0.0  ...  0.0  0.0  0.0   \n",
       "193587   0.0  0.0  0.0  0.0  0.0  0.0  0.0  0.0  0.0  0.0  ...  0.0  0.0  0.0   \n",
       "193609   0.0  0.0  0.0  0.0  0.0  0.0  0.0  0.0  0.0  0.0  ...  0.0  0.0  0.0   \n",
       "\n",
       "userId   604  605  606  607  608  609  610  \n",
       "movieId                                     \n",
       "1        3.0  4.0  2.5  4.0  2.5  3.0  5.0  \n",
       "2        5.0  3.5  0.0  0.0  2.0  0.0  0.0  \n",
       "3        0.0  0.0  0.0  0.0  2.0  0.0  0.0  \n",
       "4        0.0  0.0  0.0  0.0  0.0  0.0  0.0  \n",
       "5        3.0  0.0  0.0  0.0  0.0  0.0  0.0  \n",
       "...      ...  ...  ...  ...  ...  ...  ...  \n",
       "193581   0.0  0.0  0.0  0.0  0.0  0.0  0.0  \n",
       "193583   0.0  0.0  0.0  0.0  0.0  0.0  0.0  \n",
       "193585   0.0  0.0  0.0  0.0  0.0  0.0  0.0  \n",
       "193587   0.0  0.0  0.0  0.0  0.0  0.0  0.0  \n",
       "193609   0.0  0.0  0.0  0.0  0.0  0.0  0.0  \n",
       "\n",
       "[9724 rows x 610 columns]"
      ]
     },
     "execution_count": 17,
     "metadata": {},
     "output_type": "execute_result"
    }
   ],
   "source": [
    "movie_user"
   ]
  },
  {
   "cell_type": "code",
   "execution_count": 18,
   "id": "612713cb",
   "metadata": {
    "execution": {
     "iopub.execute_input": "2023-02-28T04:44:31.302166Z",
     "iopub.status.busy": "2023-02-28T04:44:31.301501Z",
     "iopub.status.idle": "2023-02-28T04:44:31.381518Z",
     "shell.execute_reply": "2023-02-28T04:44:31.380577Z"
    },
    "papermill": {
     "duration": 0.090185,
     "end_time": "2023-02-28T04:44:31.383719",
     "exception": false,
     "start_time": "2023-02-28T04:44:31.293534",
     "status": "completed"
    },
    "tags": []
   },
   "outputs": [],
   "source": [
    "mat_movie = csr_matrix(movie_user.values)"
   ]
  },
  {
   "cell_type": "code",
   "execution_count": 19,
   "id": "a17d55df",
   "metadata": {
    "execution": {
     "iopub.execute_input": "2023-02-28T04:44:31.399163Z",
     "iopub.status.busy": "2023-02-28T04:44:31.398891Z",
     "iopub.status.idle": "2023-02-28T04:44:31.411562Z",
     "shell.execute_reply": "2023-02-28T04:44:31.410625Z"
    },
    "papermill": {
     "duration": 0.022951,
     "end_time": "2023-02-28T04:44:31.413701",
     "exception": false,
     "start_time": "2023-02-28T04:44:31.390750",
     "status": "completed"
    },
    "tags": []
   },
   "outputs": [
    {
     "data": {
      "text/plain": [
       "NearestNeighbors(algorithm='brute', metric='cosine', n_neighbors=20)"
      ]
     },
     "execution_count": 19,
     "metadata": {},
     "output_type": "execute_result"
    }
   ],
   "source": [
    "model = NearestNeighbors(metric='cosine', algorithm='brute',n_neighbors=20)\n",
    "model.fit(mat_movie)"
   ]
  },
  {
   "cell_type": "code",
   "execution_count": 20,
   "id": "2017875e",
   "metadata": {
    "execution": {
     "iopub.execute_input": "2023-02-28T04:44:31.430721Z",
     "iopub.status.busy": "2023-02-28T04:44:31.429064Z",
     "iopub.status.idle": "2023-02-28T04:44:31.435163Z",
     "shell.execute_reply": "2023-02-28T04:44:31.434183Z"
    },
    "papermill": {
     "duration": 0.016323,
     "end_time": "2023-02-28T04:44:31.437231",
     "exception": false,
     "start_time": "2023-02-28T04:44:31.420908",
     "status": "completed"
    },
    "tags": []
   },
   "outputs": [],
   "source": [
    "def pred(title, data, top_x):\n",
    "    idx = process.extractOne(title, movies_data['title'])[2]\n",
    "    dist, indices = model.kneighbors(data[idx], n_neighbors=top_x)\n",
    "    for i in indices:\n",
    "        print(movies_data['title'][i].where(i!=idx))"
   ]
  },
  {
   "cell_type": "code",
   "execution_count": 21,
   "id": "34da57a0",
   "metadata": {
    "execution": {
     "iopub.execute_input": "2023-02-28T04:44:31.452980Z",
     "iopub.status.busy": "2023-02-28T04:44:31.452423Z",
     "iopub.status.idle": "2023-02-28T04:44:32.194514Z",
     "shell.execute_reply": "2023-02-28T04:44:32.192530Z"
    },
    "papermill": {
     "duration": 0.752942,
     "end_time": "2023-02-28T04:44:32.197398",
     "exception": false,
     "start_time": "2023-02-28T04:44:31.444456",
     "status": "completed"
    },
    "tags": []
   },
   "outputs": [
    {
     "name": "stdout",
     "output_type": "stream",
     "text": [
      "0                                                     NaN\n",
      "2353                                 'night Mother (1986)\n",
      "418                                  Jurassic Park (1993)\n",
      "615                  Independence Day (a.k.a. ID4) (1996)\n",
      "224             Star Wars: Episode IV - A New Hope (1977)\n",
      "314                                   Forrest Gump (1994)\n",
      "322                                 Lion King, The (1994)\n",
      "910     Once Upon a Time in the West (C'era una volta ...\n",
      "546                            Mission: Impossible (1996)\n",
      "963                                           Diva (1981)\n",
      "Name: title, dtype: object\n"
     ]
    }
   ],
   "source": [
    "pred('Toy Story', mat_movie, 10)"
   ]
  },
  {
   "cell_type": "markdown",
   "id": "3b0b4cae",
   "metadata": {
    "papermill": {
     "duration": 0.007216,
     "end_time": "2023-02-28T04:44:32.213608",
     "exception": false,
     "start_time": "2023-02-28T04:44:32.206392",
     "status": "completed"
    },
    "tags": []
   },
   "source": [
    "# Hybrid"
   ]
  }
 ],
 "metadata": {
  "kernelspec": {
   "display_name": "Python 3",
   "language": "python",
   "name": "python3"
  },
  "language_info": {
   "codemirror_mode": {
    "name": "ipython",
    "version": 3
   },
   "file_extension": ".py",
   "mimetype": "text/x-python",
   "name": "python",
   "nbconvert_exporter": "python",
   "pygments_lexer": "ipython3",
   "version": "3.8.0"
  },
  "papermill": {
   "default_parameters": {},
   "duration": 16.384779,
   "end_time": "2023-02-28T04:44:32.841748",
   "environment_variables": {},
   "exception": null,
   "input_path": "__notebook__.ipynb",
   "output_path": "__notebook__.ipynb",
   "parameters": {},
   "start_time": "2023-02-28T04:44:16.456969",
   "version": "2.4.0"
  }
 },
 "nbformat": 4,
 "nbformat_minor": 5
}
