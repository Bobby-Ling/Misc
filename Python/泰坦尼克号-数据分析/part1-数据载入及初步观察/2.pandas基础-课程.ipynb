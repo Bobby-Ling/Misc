{
 "cells": [
  {
   "cell_type": "markdown",
   "metadata": {},
   "source": [
    "**复习：**数据分析的第一步，加载数据我们已经学习完毕了。当数据展现在我们面前的时候，我们所要做的第一步就是认识他，今天我们要学习的就是**了解字段含义以及初步观察数据**。"
   ]
  },
  {
   "cell_type": "markdown",
   "metadata": {},
   "source": [
    "## 1 第一章：数据载入及初步观察"
   ]
  },
  {
   "cell_type": "markdown",
   "metadata": {},
   "source": [
    "### 1.4 知道你的数据叫什么\n",
    "我们学习pandas的基础操作，那么上一节通过pandas加载之后的数据，其数据类型是什么呢？"
   ]
  },
  {
   "cell_type": "markdown",
   "metadata": {},
   "source": [
    "**开始前导入numpy和pandas**"
   ]
  },
  {
   "cell_type": "code",
   "execution_count": 6,
   "metadata": {},
   "outputs": [],
   "source": [
    "import numpy as np\n",
    "import pandas as pd\n",
    "import os"
   ]
  },
  {
   "cell_type": "markdown",
   "metadata": {},
   "source": [
    "#### 1.4.1 任务一：pandas中有两个数据类型DateFrame和Series，通过查找简单了解他们。然后自己写一个关于这两个数据类型的小例子🌰[开放题]"
   ]
  },
  {
   "cell_type": "code",
   "execution_count": 29,
   "metadata": {},
   "outputs": [],
   "source": [
    "#写入代码\n"
   ]
  },
  {
   "cell_type": "code",
   "execution_count": null,
   "metadata": {},
   "outputs": [],
   "source": [
    "'''\n",
    "#我们举的例子\n",
    "sdata = {'Ohio': 35000, 'Texas': 71000, 'Oregon': 16000, 'Utah': 5000}\n",
    "example_1 = pd.Series(sdata)\n",
    "example_1\n",
    "'''"
   ]
  },
  {
   "cell_type": "code",
   "execution_count": null,
   "metadata": {},
   "outputs": [],
   "source": [
    "'''\n",
    "#我们举的例子\n",
    "data = {'state': ['Ohio', 'Ohio', 'Ohio', 'Nevada', 'Nevada', 'Nevada'],\n",
    "        'year': [2000, 2001, 2002, 2001, 2002, 2003],'pop': [1.5, 1.7, 3.6, 2.4, 2.9, 3.2]}\n",
    "example_2 = pd.DataFrame(data)\n",
    "example_2\n",
    "'''\n",
    "\n"
   ]
  },
  {
   "cell_type": "markdown",
   "metadata": {},
   "source": [
    "#### 1.4.2 任务二：根据上节课的方法载入\"train.csv\"文件\n"
   ]
  },
  {
   "cell_type": "code",
   "execution_count": 14,
   "metadata": {},
   "outputs": [
    {
     "name": "stdout",
     "output_type": "stream",
     "text": [
      "C:\\Users\\bobby\\DATA\\Git\\Python\\泰坦尼克号-数据分析\\part1-数据载入及初步观察\\train_chs_gbk.csv\n"
     ]
    }
   ],
   "source": [
    "#写入代码\n",
    "path=os.getcwd()+'\\\\train_chs_gbk.csv'\n",
    "print(path)\n",
    "data=pd.read_csv(path,encoding='gbk')"
   ]
  },
  {
   "cell_type": "markdown",
   "metadata": {},
   "source": [
    "也可以加载上一节课保存的\"train_chinese.csv\"文件。通过翻译版train_chinese.csv熟悉了这个数据集，然后我们对trian.csv来进行操作\n",
    "#### 1.4.3 任务三：查看DataFrame数据的每列的名称"
   ]
  },
  {
   "cell_type": "code",
   "execution_count": 17,
   "metadata": {},
   "outputs": [
    {
     "name": "stdout",
     "output_type": "stream",
     "text": [
      "Index(['乘客ID', '是否幸存', '仓位等级', '姓名', '性别', '年龄', '兄弟姐妹个数', '父母子女个数', '船票信息',\n",
      "       '票价', '客舱', '登船港口'],\n",
      "      dtype='object')\n",
      "0        1\n",
      "1        2\n",
      "2        3\n",
      "3        4\n",
      "4        5\n",
      "      ... \n",
      "886    887\n",
      "887    888\n",
      "888    889\n",
      "889    890\n",
      "890    891\n",
      "Name: 乘客ID, Length: 891, dtype: int64\n"
     ]
    }
   ],
   "source": [
    "#写入代码\n",
    "data.__class__\n",
    "print(data.columns)\n",
    "print(data.乘客ID)"
   ]
  },
  {
   "cell_type": "markdown",
   "metadata": {},
   "source": [
    "#### 1.4.4任务四：查看\"Cabin\"这列的所有值[有多种方法]"
   ]
  },
  {
   "cell_type": "code",
   "execution_count": 25,
   "metadata": {},
   "outputs": [
    {
     "name": "stdout",
     "output_type": "stream",
     "text": [
      "0       NaN\n",
      "1       C85\n",
      "2       NaN\n",
      "3      C123\n",
      "4       NaN\n",
      "       ... \n",
      "886     NaN\n",
      "887     B42\n",
      "888     NaN\n",
      "889    C148\n",
      "890     NaN\n",
      "Name: 客舱, Length: 891, dtype: object\n",
      "0       NaN\n",
      "1       C85\n",
      "2       NaN\n",
      "3      C123\n",
      "4       NaN\n",
      "       ... \n",
      "886     NaN\n",
      "887     B42\n",
      "888     NaN\n",
      "889    C148\n",
      "890     NaN\n",
      "Name: 客舱, Length: 891, dtype: object\n",
      "<class 'pandas.core.series.Series'>\n",
      "<class 'pandas.core.series.Series'>\n",
      "<bound method DataFrame.info of    乘客ID  是否幸存  仓位等级                                                 姓名  \\\n",
      "0     1     0     3                            Braund, Mr. Owen Harris   \n",
      "1     2     1     1  Cumings, Mrs. John Bradley (Florence Briggs Th...   \n",
      "2     3     1     3                             Heikkinen, Miss. Laina   \n",
      "\n",
      "       性别    年龄  兄弟姐妹个数  父母子女个数              船票信息       票价   客舱 登船港口  \n",
      "0    male  22.0       1       0         A/5 21171   7.2500  NaN    S  \n",
      "1  female  38.0       1       0          PC 17599  71.2833  C85    C  \n",
      "2  female  26.0       0       0  STON/O2. 3101282   7.9250  NaN    S  >\n"
     ]
    }
   ],
   "source": [
    "#写入代码\n",
    "print(data.客舱)\n",
    "print(data['客舱'])\n",
    "# print(data)\n",
    "print(data[\"仓位等级\"].__class__)\n",
    "print(data.仓位等级.__class__)\n",
    "print(data.head(3).info)"
   ]
  },
  {
   "cell_type": "code",
   "execution_count": 29,
   "metadata": {},
   "outputs": [],
   "source": [
    "#写入代码\n"
   ]
  },
  {
   "cell_type": "markdown",
   "metadata": {},
   "source": [
    "#### 1.4.5 任务五：加载文件\"test_1.csv\"，然后对比\"train.csv\"，看看有哪些多出的列，然后将多出的列删除\n",
    "经过我们的观察发现一个测试集test_1.csv有一列是多余的，我们需要将这个多余的列删去"
   ]
  },
  {
   "cell_type": "code",
   "execution_count": 29,
   "metadata": {},
   "outputs": [],
   "source": [
    "#写入代码\n"
   ]
  },
  {
   "cell_type": "code",
   "execution_count": 29,
   "metadata": {},
   "outputs": [],
   "source": [
    "#写入代码\n"
   ]
  },
  {
   "cell_type": "markdown",
   "metadata": {},
   "source": [
    "【思考】还有其他的删除多余的列的方式吗？"
   ]
  },
  {
   "cell_type": "code",
   "execution_count": 1,
   "metadata": {},
   "outputs": [],
   "source": [
    "# 思考回答\n",
    "\n",
    "\n",
    "\n",
    "\n"
   ]
  },
  {
   "cell_type": "markdown",
   "metadata": {},
   "source": [
    "#### 1.4.6 任务六： 将['PassengerId','Name','Age','Ticket']这几个列元素隐藏，只观察其他几个列元素"
   ]
  },
  {
   "cell_type": "code",
   "execution_count": 30,
   "metadata": {},
   "outputs": [
    {
     "data": {
      "text/plain": [
       "<bound method DataFrame.info of      乘客ID  是否幸存  仓位等级                                                 姓名  \\\n",
       "0       1     0     3                            Braund, Mr. Owen Harris   \n",
       "1       2     1     1  Cumings, Mrs. John Bradley (Florence Briggs Th...   \n",
       "2       3     1     3                             Heikkinen, Miss. Laina   \n",
       "3       4     1     1       Futrelle, Mrs. Jacques Heath (Lily May Peel)   \n",
       "4       5     0     3                           Allen, Mr. William Henry   \n",
       "..    ...   ...   ...                                                ...   \n",
       "886   887     0     2                              Montvila, Rev. Juozas   \n",
       "887   888     1     1                       Graham, Miss. Margaret Edith   \n",
       "888   889     0     3           Johnston, Miss. Catherine Helen \"Carrie\"   \n",
       "889   890     1     1                              Behr, Mr. Karl Howell   \n",
       "890   891     0     3                                Dooley, Mr. Patrick   \n",
       "\n",
       "         性别    年龄  兄弟姐妹个数  父母子女个数              船票信息    客舱 登船港口  \n",
       "0      male  22.0       1       0         A/5 21171   NaN    S  \n",
       "1    female  38.0       1       0          PC 17599   C85    C  \n",
       "2    female  26.0       0       0  STON/O2. 3101282   NaN    S  \n",
       "3    female  35.0       1       0            113803  C123    S  \n",
       "4      male  35.0       0       0            373450   NaN    S  \n",
       "..      ...   ...     ...     ...               ...   ...  ...  \n",
       "886    male  27.0       0       0            211536   NaN    S  \n",
       "887  female  19.0       0       0            112053   B42    S  \n",
       "888  female   NaN       1       2        W./C. 6607   NaN    S  \n",
       "889    male  26.0       0       0            111369  C148    C  \n",
       "890    male  32.0       0       0            370376   NaN    Q  \n",
       "\n",
       "[891 rows x 11 columns]>"
      ]
     },
     "execution_count": 30,
     "metadata": {},
     "output_type": "execute_result"
    }
   ],
   "source": [
    "#写入代码\n",
    "data.head(1)\n",
    "data.drop(['票价'],axis=1).info"
   ]
  },
  {
   "cell_type": "markdown",
   "metadata": {},
   "source": [
    "【思考】对比任务五和任务六，是不是使用了不一样的方法(函数)，如果使用一样的函数如何完成上面的不同的要求呢？"
   ]
  },
  {
   "cell_type": "markdown",
   "metadata": {},
   "source": [
    "【思考回答】\n",
    "\n",
    "如果想要完全的删除你的数据结构，使用inplace=True，因为使用inplace就将原数据覆盖了，所以这里没有用"
   ]
  },
  {
   "cell_type": "markdown",
   "metadata": {},
   "source": [
    "### 1.5 筛选的逻辑"
   ]
  },
  {
   "cell_type": "markdown",
   "metadata": {},
   "source": [
    "表格数据中，最重要的一个功能就是要具有可筛选的能力，选出我所需要的信息，丢弃无用的信息。\n",
    "\n",
    "下面我们还是用实战来学习pandas这个功能。"
   ]
  },
  {
   "cell_type": "markdown",
   "metadata": {},
   "source": [
    "#### 1.5.1 任务一： 我们以\"Age\"为筛选条件，显示年龄在10岁以下的乘客信息。"
   ]
  },
  {
   "cell_type": "code",
   "execution_count": 65,
   "metadata": {},
   "outputs": [
    {
     "name": "stdout",
     "output_type": "stream",
     "text": [
      "0    22.0\n",
      "1    38.0\n",
      "2    26.0\n",
      "Name: 年龄, dtype: float64\n",
      "<class 'pandas.core.series.Series'>\n",
      "0     True\n",
      "1    False\n",
      "2     True\n",
      "Name: 年龄, dtype: bool\n",
      "<class 'pandas.core.series.Series'>\n",
      "0    1\n",
      "1    2\n",
      "2    3\n",
      "dtype: int64\n",
      "1a    a3\n",
      "2b    b2\n",
      "3c    c1\n",
      "dtype: object\n",
      "4    1\n",
      "5    2\n",
      "6    3\n",
      "dtype: int64\n",
      "1    4\n",
      "2    5\n",
      "3    6\n",
      "dtype: int64\n",
      "0    False\n",
      "1     True\n",
      "2    False\n",
      "Name: 年龄, dtype: bool\n",
      "   乘客ID  是否幸存  仓位等级                                                 姓名  \\\n",
      "1     2     1     1  Cumings, Mrs. John Bradley (Florence Briggs Th...   \n",
      "\n",
      "       性别    年龄  兄弟姐妹个数  父母子女个数      船票信息       票价   客舱 登船港口  \n",
      "1  female  38.0       1       0  PC 17599  71.2833  C85    C  \n",
      "Empty DataFrame\n",
      "Columns: [乘客ID, 是否幸存, 仓位等级, 姓名, 性别, 年龄, 兄弟姐妹个数, 父母子女个数, 船票信息, 票价, 客舱, 登船港口]\n",
      "Index: []\n"
     ]
    }
   ],
   "source": [
    "#写入代码\n",
    "print(data.年龄.head(3))\n",
    "print(data.年龄.head(3).__class__)\n",
    "filter=data.年龄.head(3)<30\n",
    "print(filter)\n",
    "print(filter.__class__)\n",
    "filter\n",
    "print(pd.Series([1,2,3]))\n",
    "print(pd.Series(['a3','b2','c1'],['1a','2b','3c']))\n",
    "print(pd.Series([1,2,3],[4,5,6]))\n",
    "print(pd.Series([4,5,6],[1,2,3]))\n",
    "filter=pd.Series([False,True,False],[0,1,2],name='年龄')\n",
    "print(filter)\n",
    "print(data.head(3)[filter])\n",
    "print(data.head(3)[data.head(3).年龄<10].head(3))"
   ]
  },
  {
   "cell_type": "markdown",
   "metadata": {},
   "source": [
    "#### 1.5.2 任务二： 以\"Age\"为条件，将年龄在10岁以上和50岁以下的乘客信息显示出来，并将这个数据命名为midage"
   ]
  },
  {
   "cell_type": "code",
   "execution_count": 72,
   "metadata": {},
   "outputs": [
    {
     "name": "stdout",
     "output_type": "stream",
     "text": [
      "0       True\n",
      "1       True\n",
      "2       True\n",
      "3       True\n",
      "4       True\n",
      "       ...  \n",
      "886     True\n",
      "887     True\n",
      "888    False\n",
      "889     True\n",
      "890     True\n",
      "Name: 年龄, Length: 891, dtype: bool\n",
      "   乘客ID  是否幸存  仓位等级                                                 姓名  \\\n",
      "0     1     0     3                            Braund, Mr. Owen Harris   \n",
      "1     2     1     1  Cumings, Mrs. John Bradley (Florence Briggs Th...   \n",
      "2     3     1     3                             Heikkinen, Miss. Laina   \n",
      "\n",
      "       性别    年龄  兄弟姐妹个数  父母子女个数              船票信息       票价   客舱 登船港口  \n",
      "0    male  22.0       1       0         A/5 21171   7.2500  NaN    S  \n",
      "1  female  38.0       1       0          PC 17599  71.2833  C85    C  \n",
      "2  female  26.0       0       0  STON/O2. 3101282   7.9250  NaN    S  \n"
     ]
    }
   ],
   "source": [
    "#写入代码\n",
    "filter_lt50=data.年龄<50\n",
    "filter_gt10=data.年龄>10\n",
    "filter10_50=filter_lt50&filter_gt10\n",
    "print(filter10_50)\n",
    "midage=data[filter10_50]\n",
    "print(midage.head(3))"
   ]
  },
  {
   "cell_type": "markdown",
   "metadata": {},
   "source": [
    "【提示】了解pandas的条件筛选方式以及如何使用交集和并集操作"
   ]
  },
  {
   "cell_type": "markdown",
   "metadata": {},
   "source": [
    "#### 1.5.3 任务三：将midage的数据中第100行的\"Pclass\"和\"Sex\"的数据显示出来"
   ]
  },
  {
   "cell_type": "code",
   "execution_count": 29,
   "metadata": {},
   "outputs": [],
   "source": [
    "#写入代码\n"
   ]
  },
  {
   "cell_type": "markdown",
   "metadata": {},
   "source": [
    "【提示】在抽取数据中，我们希望数据的相对顺序保持不变，用什么函数可以达到这个效果呢？"
   ]
  },
  {
   "cell_type": "markdown",
   "metadata": {},
   "source": [
    "#### 1.5.4 任务四：使用loc方法将midage的数据中第100，105，108行的\"Pclass\"，\"Name\"和\"Sex\"的数据显示出来"
   ]
  },
  {
   "cell_type": "code",
   "execution_count": 82,
   "metadata": {},
   "outputs": [
    {
     "data": {
      "text/html": [
       "<div>\n",
       "<style scoped>\n",
       "    .dataframe tbody tr th:only-of-type {\n",
       "        vertical-align: middle;\n",
       "    }\n",
       "\n",
       "    .dataframe tbody tr th {\n",
       "        vertical-align: top;\n",
       "    }\n",
       "\n",
       "    .dataframe thead th {\n",
       "        text-align: right;\n",
       "    }\n",
       "</style>\n",
       "<table border=\"1\" class=\"dataframe\">\n",
       "  <thead>\n",
       "    <tr style=\"text-align: right;\">\n",
       "      <th></th>\n",
       "      <th>年龄</th>\n",
       "      <th>性别</th>\n",
       "    </tr>\n",
       "  </thead>\n",
       "  <tbody>\n",
       "    <tr>\n",
       "      <th>30</th>\n",
       "      <td>40.0</td>\n",
       "      <td>male</td>\n",
       "    </tr>\n",
       "    <tr>\n",
       "      <th>40</th>\n",
       "      <td>40.0</td>\n",
       "      <td>female</td>\n",
       "    </tr>\n",
       "  </tbody>\n",
       "</table>\n",
       "</div>"
      ],
      "text/plain": [
       "      年龄      性别\n",
       "30  40.0    male\n",
       "40  40.0  female"
      ]
     },
     "execution_count": 82,
     "metadata": {},
     "output_type": "execute_result"
    }
   ],
   "source": [
    "#写入代码\n",
    "midage.loc[[30,40],['年龄','性别']]"
   ]
  },
  {
   "cell_type": "markdown",
   "metadata": {},
   "source": [
    "#### 1.5.5 任务五：使用iloc方法将midage的数据中第100，105，108行的\"Pclass\"，\"Name\"和\"Sex\"的数据显示出来"
   ]
  },
  {
   "cell_type": "code",
   "execution_count": 80,
   "metadata": {},
   "outputs": [
    {
     "data": {
      "text/html": [
       "<div>\n",
       "<style scoped>\n",
       "    .dataframe tbody tr th:only-of-type {\n",
       "        vertical-align: middle;\n",
       "    }\n",
       "\n",
       "    .dataframe tbody tr th {\n",
       "        vertical-align: top;\n",
       "    }\n",
       "\n",
       "    .dataframe thead th {\n",
       "        text-align: right;\n",
       "    }\n",
       "</style>\n",
       "<table border=\"1\" class=\"dataframe\">\n",
       "  <thead>\n",
       "    <tr style=\"text-align: right;\">\n",
       "      <th></th>\n",
       "      <th>年龄</th>\n",
       "      <th>船票信息</th>\n",
       "      <th>票价</th>\n",
       "    </tr>\n",
       "  </thead>\n",
       "  <tbody>\n",
       "    <tr>\n",
       "      <th>2</th>\n",
       "      <td>26.0</td>\n",
       "      <td>STON/O2. 3101282</td>\n",
       "      <td>7.925</td>\n",
       "    </tr>\n",
       "    <tr>\n",
       "      <th>3</th>\n",
       "      <td>35.0</td>\n",
       "      <td>113803</td>\n",
       "      <td>53.100</td>\n",
       "    </tr>\n",
       "    <tr>\n",
       "      <th>4</th>\n",
       "      <td>35.0</td>\n",
       "      <td>373450</td>\n",
       "      <td>8.050</td>\n",
       "    </tr>\n",
       "  </tbody>\n",
       "</table>\n",
       "</div>"
      ],
      "text/plain": [
       "     年龄              船票信息      票价\n",
       "2  26.0  STON/O2. 3101282   7.925\n",
       "3  35.0            113803  53.100\n",
       "4  35.0            373450   8.050"
      ]
     },
     "execution_count": 80,
     "metadata": {},
     "output_type": "execute_result"
    }
   ],
   "source": [
    "#写入代码\n",
    "midage.iloc[1,2]\n",
    "midage.iloc[[2,3,4],[5,8,9]]"
   ]
  },
  {
   "cell_type": "markdown",
   "metadata": {},
   "source": [
    "【思考】对比`iloc`和`loc`的异同"
   ]
  }
 ],
 "metadata": {
  "kernelspec": {
   "display_name": "Python 3 (ipykernel)",
   "language": "python",
   "name": "python3"
  },
  "language_info": {
   "codemirror_mode": {
    "name": "ipython",
    "version": 3
   },
   "file_extension": ".py",
   "mimetype": "text/x-python",
   "name": "python",
   "nbconvert_exporter": "python",
   "pygments_lexer": "ipython3",
   "version": "3.8.18"
  },
  "toc": {
   "base_numbering": 1,
   "nav_menu": {},
   "number_sections": false,
   "sideBar": true,
   "skip_h1_title": false,
   "title_cell": "Table of Contents",
   "title_sidebar": "Contents",
   "toc_cell": false,
   "toc_position": {
    "height": "calc(100% - 180px)",
    "left": "10px",
    "top": "150px",
    "width": "582px"
   },
   "toc_section_display": true,
   "toc_window_display": true
  }
 },
 "nbformat": 4,
 "nbformat_minor": 4
}
